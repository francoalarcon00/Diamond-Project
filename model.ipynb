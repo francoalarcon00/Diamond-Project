{
 "cells": [
  {
   "cell_type": "code",
   "execution_count": 1,
   "metadata": {},
   "outputs": [],
   "source": [
    "# Library for loading dataset\n",
    "import pandas as pd\n",
    "\n",
    "# Libraries for preprocessing\n",
    "from sklearn.preprocessing import LabelEncoder\n",
    "from sklearn.impute import SimpleImputer\n",
    "from sklearn.preprocessing import robust_scale\n",
    "\n",
    "# Library for modeling\n",
    "from sklearn.ensemble import HistGradientBoostingRegressor\n",
    "\n",
    "# Library for selection\n",
    "from sklearn.model_selection import train_test_split\n",
    "\n",
    "# Library for metrics\n",
    "from sklearn.metrics import r2_score\n",
    "\n",
    "# Library for exportation\n",
    "import pickle"
   ]
  },
  {
   "cell_type": "code",
   "execution_count": 2,
   "metadata": {},
   "outputs": [],
   "source": [
    "# Loading data\n",
    "df = pd.read_csv('clean_diamonds.csv')"
   ]
  },
  {
   "cell_type": "code",
   "execution_count": 3,
   "metadata": {},
   "outputs": [],
   "source": [
    "# Drop unnecessary columns\n",
    "df.drop(columns=['index', 'table', 'depth'], inplace=True)"
   ]
  },
  {
   "cell_type": "code",
   "execution_count": 4,
   "metadata": {},
   "outputs": [
    {
     "name": "stdout",
     "output_type": "stream",
     "text": [
      "<class 'pandas.core.frame.DataFrame'>\n",
      "RangeIndex: 53943 entries, 0 to 53942\n",
      "Data columns (total 8 columns):\n",
      " #   Column   Non-Null Count  Dtype  \n",
      "---  ------   --------------  -----  \n",
      " 0   carat    53943 non-null  float64\n",
      " 1   cut      53943 non-null  object \n",
      " 2   color    53943 non-null  object \n",
      " 3   clarity  53943 non-null  object \n",
      " 4   price    53943 non-null  int64  \n",
      " 5   x        53943 non-null  float64\n",
      " 6   y        53943 non-null  float64\n",
      " 7   z        53943 non-null  float64\n",
      "dtypes: float64(4), int64(1), object(3)\n",
      "memory usage: 3.3+ MB\n"
     ]
    }
   ],
   "source": [
    "df.info()"
   ]
  },
  {
   "cell_type": "code",
   "execution_count": 5,
   "metadata": {},
   "outputs": [],
   "source": [
    "# Encode objects\n",
    "le = LabelEncoder()\n",
    "\n",
    "df['cut'] = le.fit_transform(df['cut'])\n",
    "df['color'] = le.fit_transform(df['color'])\n",
    "df['clarity'] = le.fit_transform(df['clarity'])\n",
    "\n",
    "features = ['carat','cut','color','clarity','x','y','z']\n",
    "\n",
    "# Declare X and Y variables\n",
    "x = df[features]     \n",
    "y = df['price']\n",
    "\n",
    "# Train set and Test set\n",
    "x_train, x_test, y_train, y_test = train_test_split(x, y, test_size=0.20, random_state=1)\n",
    "\n",
    "\n",
    "# Scale X variable (x_train and x_test) with robust_scale\n",
    "x_train_scale = robust_scale(x_train)\n",
    "x_test_scale = robust_scale(x_test)"
   ]
  },
  {
   "cell_type": "code",
   "execution_count": 6,
   "metadata": {},
   "outputs": [],
   "source": [
    "# Create the HistGradientBoostingRegressor model with the following parameters obtained from model_selection\n",
    "HGBR = HistGradientBoostingRegressor(\n",
    "    l2_regularization=2.208787572338781e-05,\n",
    "    learning_rate=0.036087332404571744,\n",
    "    loss='squared_error', max_iter=512,\n",
    "    max_leaf_nodes=64, min_samples_leaf=3,\n",
    "    n_iter_no_change=18, random_state=1,\n",
    "    validation_fraction=None, warm_start=True)\n"
   ]
  },
  {
   "cell_type": "code",
   "execution_count": 7,
   "metadata": {},
   "outputs": [
    {
     "data": {
      "text/plain": [
       "array([  840.94836554, 14558.10991348,   926.79436059, ...,\n",
       "         793.96748751,   655.44558954,   534.91581472])"
      ]
     },
     "execution_count": 7,
     "metadata": {},
     "output_type": "execute_result"
    }
   ],
   "source": [
    "# Train and test the model\n",
    "HGBR.fit(x_train_scale, y_train)\n",
    "y_pred = HGBR.predict(x_test_scale)\n",
    "y_pred"
   ]
  },
  {
   "cell_type": "code",
   "execution_count": 8,
   "metadata": {},
   "outputs": [
    {
     "name": "stdout",
     "output_type": "stream",
     "text": [
      "Train score:  0.9898104793920454\n",
      "Test score:  0.9803135594866754\n"
     ]
    }
   ],
   "source": [
    "# Shows scores (train and test)\n",
    "print('Train score: ', HGBR.score(x_train_scale, y_train))\n",
    "print('Test score: ', r2_score(y_test, y_pred))"
   ]
  },
  {
   "cell_type": "code",
   "execution_count": 9,
   "metadata": {},
   "outputs": [],
   "source": [
    "pickle.dump(HGBR, open('model.pkl', 'wb'))"
   ]
  }
 ],
 "metadata": {
  "kernelspec": {
   "display_name": "Python 3.10.4 64-bit",
   "language": "python",
   "name": "python3"
  },
  "language_info": {
   "codemirror_mode": {
    "name": "ipython",
    "version": 3
   },
   "file_extension": ".py",
   "mimetype": "text/x-python",
   "name": "python",
   "nbconvert_exporter": "python",
   "pygments_lexer": "ipython3",
   "version": "3.10.4"
  },
  "orig_nbformat": 4,
  "vscode": {
   "interpreter": {
    "hash": "916dbcbb3f70747c44a77c7bcd40155683ae19c65e1c03b4aa3499c5328201f1"
   }
  }
 },
 "nbformat": 4,
 "nbformat_minor": 2
}
